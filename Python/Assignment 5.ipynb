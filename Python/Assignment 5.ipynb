{
 "cells": [
  {
   "cell_type": "markdown",
   "metadata": {},
   "source": [
    "### 1. Write a function to compute 5/0 and use try/except to catch the exceptions.\n"
   ]
  },
  {
   "cell_type": "code",
   "execution_count": 1,
   "metadata": {},
   "outputs": [],
   "source": [
    "def calculation():\n",
    "    try:\n",
    "        print(5/0)\n",
    "    except Exception as e:\n",
    "        print(e)"
   ]
  },
  {
   "cell_type": "code",
   "execution_count": 2,
   "metadata": {},
   "outputs": [
    {
     "name": "stdout",
     "output_type": "stream",
     "text": [
      "division by zero\n"
     ]
    }
   ],
   "source": [
    "calculation()"
   ]
  },
  {
   "cell_type": "markdown",
   "metadata": {},
   "source": [
    "### 2. Implement a Python program to generate all sentences where subject is in\n",
    "\n",
    "### [\"Americans\", \"Indians\"] and verb is in [\"Play\", \"watch\"] and the object is in [\"Baseball\",\"cricket\"].\n",
    "\n",
    "### Hint: Subject,Verb and Object should be declared in the program as shown below.\n",
    "\n",
    "subjects=[\"Americans \",\"Indians\"]\n",
    "\n",
    "verbs=[\"play\",\"watch\"]\n",
    "\n",
    "objects=[\"Baseball\",\"Cricket\"]\n",
    "\n",
    "### Output should come as below:\n",
    "Americans play Baseball.\n",
    "\n",
    "Americans play Cricket.\n",
    "\n",
    "Americans watch Baseball.\n",
    "\n",
    "Americans watch Cricket.\n",
    "\n",
    "Indians play Baseball.\n",
    "\n",
    "Indians play Cricket.\n",
    "\n",
    "Indians watch Baseball.\n",
    "\n",
    "Indians watch Cricket.\n",
    "\n"
   ]
  },
  {
   "cell_type": "code",
   "execution_count": 3,
   "metadata": {},
   "outputs": [],
   "source": [
    "subjects=[\"Americans \",\"Indians\"]\n",
    "verbs=[\"play\",\"watch\"]\n",
    "objects=[\"Baseball\",\"Cricket\"]\n",
    "\n",
    "all_sentence = [sub+' '+verb+' '+obj for sub in subjects for verb in verbs for obj in objects]"
   ]
  },
  {
   "cell_type": "code",
   "execution_count": 6,
   "metadata": {},
   "outputs": [
    {
     "name": "stdout",
     "output_type": "stream",
     "text": [
      "Americans  play Baseball\n",
      "Americans  play Cricket\n",
      "Americans  watch Baseball\n",
      "Americans  watch Cricket\n",
      "Indians play Baseball\n",
      "Indians play Cricket\n",
      "Indians watch Baseball\n",
      "Indians watch Cricket\n"
     ]
    }
   ],
   "source": [
    "for i in all_sentence:\n",
    "    print(i)"
   ]
  },
  {
   "cell_type": "code",
   "execution_count": null,
   "metadata": {},
   "outputs": [],
   "source": []
  }
 ],
 "metadata": {
  "kernelspec": {
   "display_name": "Python 3",
   "language": "python",
   "name": "python3"
  },
  "language_info": {
   "codemirror_mode": {
    "name": "ipython",
    "version": 3
   },
   "file_extension": ".py",
   "mimetype": "text/x-python",
   "name": "python",
   "nbconvert_exporter": "python",
   "pygments_lexer": "ipython3",
   "version": "3.7.6"
  }
 },
 "nbformat": 4,
 "nbformat_minor": 4
}

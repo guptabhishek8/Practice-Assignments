{
 "cells": [
  {
   "cell_type": "markdown",
   "metadata": {},
   "source": [
    "### 1.1 Write a Python Program(with class concepts) to find the area of the triangle using the below formula. \n",
    "### area = (s*(s-a)*(s-b)*(s-c)) ** 0.5                                                                                         \n",
    "### Function to take the length of the sides of triangle from user should be defined in the parent                             class and function to calculate the area should be defined in subclass."
   ]
  },
  {
   "cell_type": "code",
   "execution_count": 57,
   "metadata": {},
   "outputs": [],
   "source": [
    "class Triangle():\n",
    "    def __init__(self, a, b, c):\n",
    "        self.a = a\n",
    "        self.b = b\n",
    "        self.c = c\n",
    "    def perimeter(self):\n",
    "        return self.a + self.b + self.c\n",
    "        \n",
    "\n",
    "class TriangleArea(Triangle):\n",
    "    def __init__(self, a, b, c):\n",
    "        super().__init__( a, b, c)\n",
    "        \n",
    "    def area(self):\n",
    "        self.s = (self.a+self.b+self.c )/ 2\n",
    "        print(\"perimeter : \", self.s*2)\n",
    "        print(\"Area of Triangle is : \", (self.s* (self.s-self.a)* (self.s-self.b)* (self.s-self.c)) ** 0.5)"
   ]
  },
  {
   "cell_type": "code",
   "execution_count": 58,
   "metadata": {},
   "outputs": [
    {
     "name": "stdout",
     "output_type": "stream",
     "text": [
      "perimeter :  20.0\n",
      "Area of Triangle is :  11.832159566199232\n"
     ]
    }
   ],
   "source": [
    "x= TriangleArea(8,3,9)\n",
    "x.area()"
   ]
  },
  {
   "cell_type": "markdown",
   "metadata": {},
   "source": [
    "### 1.2 Write a function filter_long_words() that takes a list of words and an integer n and returns the list of words that are longer than n"
   ]
  },
  {
   "cell_type": "code",
   "execution_count": 8,
   "metadata": {},
   "outputs": [
    {
     "name": "stdout",
     "output_type": "stream",
     "text": [
      "['asbhise', 'asdas', 'dfsdf', 'asdas']\n"
     ]
    }
   ],
   "source": [
    "def filter_long_words(w, n):\n",
    "    return [i for i in w if len(i)>n]\n",
    "\n",
    "print(filter_long_words(['asbhise', 'asdas','dfsdf','asdas','asd','a'], 3))"
   ]
  },
  {
   "cell_type": "markdown",
   "metadata": {},
   "source": [
    "### 2.1 Write a Python program using function concept that maps list of words into a list of integers representing the lengths of the corresponding words. \n",
    "Hint: If a list [ ab,cde,erty] is passed on to the python function output should come as [2,3,4]\n",
    "\n",
    "Here 2,3 and 4 are the lengths of the words in the list"
   ]
  },
  {
   "cell_type": "code",
   "execution_count": 16,
   "metadata": {},
   "outputs": [
    {
     "name": "stdout",
     "output_type": "stream",
     "text": [
      "[2, 3, 4]\n"
     ]
    }
   ],
   "source": [
    "l = ['ab','cde','erty']\n",
    "print(list(map(len,l)))"
   ]
  },
  {
   "cell_type": "markdown",
   "metadata": {},
   "source": [
    "### 2.2 Write a Python function which takes a character (i.e. a string of length 1) and returns True if it is a vowel, False otherwise"
   ]
  },
  {
   "cell_type": "code",
   "execution_count": 24,
   "metadata": {},
   "outputs": [],
   "source": [
    "def check_vowel(w):\n",
    "    try:\n",
    "        if len(w) == 1:\n",
    "            return w.lower() in ['a','e','i','o','u']\n",
    "        else:\n",
    "            raise Exception\n",
    "    except Exception:\n",
    "        print(\"This function is only for character\")"
   ]
  },
  {
   "cell_type": "code",
   "execution_count": 25,
   "metadata": {},
   "outputs": [
    {
     "name": "stdout",
     "output_type": "stream",
     "text": [
      "This function is only for character\n"
     ]
    }
   ],
   "source": [
    "check_vowel(\"Abhishek\")"
   ]
  },
  {
   "cell_type": "code",
   "execution_count": 26,
   "metadata": {},
   "outputs": [
    {
     "data": {
      "text/plain": [
       "True"
      ]
     },
     "execution_count": 26,
     "metadata": {},
     "output_type": "execute_result"
    }
   ],
   "source": [
    "check_vowel(\"a\")"
   ]
  },
  {
   "cell_type": "code",
   "execution_count": 27,
   "metadata": {},
   "outputs": [
    {
     "data": {
      "text/plain": [
       "True"
      ]
     },
     "execution_count": 27,
     "metadata": {},
     "output_type": "execute_result"
    }
   ],
   "source": [
    "check_vowel(\"E\")"
   ]
  },
  {
   "cell_type": "code",
   "execution_count": null,
   "metadata": {},
   "outputs": [],
   "source": []
  }
 ],
 "metadata": {
  "kernelspec": {
   "display_name": "Python 3",
   "language": "python",
   "name": "python3"
  },
  "language_info": {
   "codemirror_mode": {
    "name": "ipython",
    "version": 3
   },
   "file_extension": ".py",
   "mimetype": "text/x-python",
   "name": "python",
   "nbconvert_exporter": "python",
   "pygments_lexer": "ipython3",
   "version": "3.7.6"
  }
 },
 "nbformat": 4,
 "nbformat_minor": 4
}
